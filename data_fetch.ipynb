{
 "cells": [
  {
   "cell_type": "code",
   "execution_count": 5,
   "metadata": {},
   "outputs": [],
   "source": [
    "from selenium import webdriver\n",
    "from selenium.webdriver.edge.service import Service\n",
    "from selenium.webdriver.edge.options import Options\n",
    "from selenium.webdriver.common.by import By\n",
    "import tqdm"
   ]
  },
  {
   "cell_type": "markdown",
   "metadata": {},
   "source": [
    "## Fetch Etymologiae"
   ]
  },
  {
   "cell_type": "code",
   "execution_count": 6,
   "metadata": {},
   "outputs": [],
   "source": [
    "book_name = \"Etymologiarum libri XX\"\n",
    "tar_url = \"http://www.fh-augsburg.de/~harsch/Chronologia/Lspost07/Isidorus/isi_et00.html\"\n",
    "exec_path = r\"C:\\Program Files\\edgedriver_win64\\msedgedriver.exe\"\n",
    "headless = False"
   ]
  },
  {
   "cell_type": "code",
   "execution_count": 7,
   "metadata": {},
   "outputs": [],
   "source": [
    "hl_opt = Options()\n",
    "if headless:\n",
    "    hl_opt.add_argument(\"headless\")\n",
    "s = Service(executable_path=exec_path)\n",
    "driver = webdriver.Edge(service=s, options=hl_opt)    "
   ]
  },
  {
   "cell_type": "code",
   "execution_count": 8,
   "metadata": {},
   "outputs": [],
   "source": [
    "driver.get(tar_url)\n",
    "contents = driver.find_elements(By.XPATH, \"/html/body/div/div[5]/table/tbody/tr[3]/td[2]/p[not(@style)]\")"
   ]
  },
  {
   "cell_type": "code",
   "execution_count": 9,
   "metadata": {},
   "outputs": [],
   "source": [
    "wdoc = []\n",
    "for num, name in zip(contents[::2],contents[1::2]):\n",
    "    wdoc.append(dict(bks=num.text, title=name.text, url=num.find_element(By.XPATH,\"a\").get_attribute(\"href\")))\n"
   ]
  },
  {
   "cell_type": "code",
   "execution_count": 10,
   "metadata": {},
   "outputs": [],
   "source": [
    "for bk in wdoc:\n",
    "    driver.get(bk[\"url\"])\n",
    "    texts = \"\"    \n",
    "    for h3 in driver.find_elements(By.XPATH,\"//h3\"):\n",
    "        texts += h3.text\n",
    "    bk[\"texts\"] = texts"
   ]
  },
  {
   "cell_type": "code",
   "execution_count": 80,
   "metadata": {},
   "outputs": [
    {
     "ename": "FileExistsError",
     "evalue": "File 'data/Etymologiarum libri XX.json' already exists.",
     "output_type": "error",
     "traceback": [
      "\u001b[1;31m---------------------------------------------------------------------------\u001b[0m",
      "\u001b[1;31mFileExistsError\u001b[0m                           Traceback (most recent call last)",
      "\u001b[1;32mc:\\Users\\chenbowen\\Project\\Interests\\Alchemist\\spider_alch.ipynb Cell 7'\u001b[0m in \u001b[0;36m<cell line: 4>\u001b[1;34m()\u001b[0m\n\u001b[0;32m      <a href='vscode-notebook-cell:/c%3A/Users/chenbowen/Project/Interests/Alchemist/spider_alch.ipynb#ch0000020?line=2'>3</a>\u001b[0m wpath \u001b[39m=\u001b[39m \u001b[39mf\u001b[39m\u001b[39m\"\u001b[39m\u001b[39mdata/\u001b[39m\u001b[39m{\u001b[39;00mbook_name\u001b[39m}\u001b[39;00m\u001b[39m.json\u001b[39m\u001b[39m\"\u001b[39m\n\u001b[0;32m      <a href='vscode-notebook-cell:/c%3A/Users/chenbowen/Project/Interests/Alchemist/spider_alch.ipynb#ch0000020?line=3'>4</a>\u001b[0m \u001b[39mif\u001b[39;00m os\u001b[39m.\u001b[39mpath\u001b[39m.\u001b[39mexists(wpath):\n\u001b[1;32m----> <a href='vscode-notebook-cell:/c%3A/Users/chenbowen/Project/Interests/Alchemist/spider_alch.ipynb#ch0000020?line=4'>5</a>\u001b[0m     \u001b[39mraise\u001b[39;00m \u001b[39mFileExistsError\u001b[39;00m(\u001b[39mf\u001b[39m\u001b[39m\"\u001b[39m\u001b[39mFile \u001b[39m\u001b[39m'\u001b[39m\u001b[39m{\u001b[39;00mwpath\u001b[39m}\u001b[39;00m\u001b[39m'\u001b[39m\u001b[39m already exists.\u001b[39m\u001b[39m\"\u001b[39m)\n\u001b[0;32m      <a href='vscode-notebook-cell:/c%3A/Users/chenbowen/Project/Interests/Alchemist/spider_alch.ipynb#ch0000020?line=5'>6</a>\u001b[0m \u001b[39mwith\u001b[39;00m \u001b[39mopen\u001b[39m(wpath, \u001b[39m\"\u001b[39m\u001b[39mw\u001b[39m\u001b[39m\"\u001b[39m) \u001b[39mas\u001b[39;00m jf:\n\u001b[0;32m      <a href='vscode-notebook-cell:/c%3A/Users/chenbowen/Project/Interests/Alchemist/spider_alch.ipynb#ch0000020?line=6'>7</a>\u001b[0m     json\u001b[39m.\u001b[39mdump(wdoc, jf)\n",
      "\u001b[1;31mFileExistsError\u001b[0m: File 'data/Etymologiarum libri XX.json' already exists."
     ]
    }
   ],
   "source": [
    "import json\n",
    "import os\n",
    "wpath = f\"data/{book_name}.json\"\n",
    "if os.path.exists(wpath):\n",
    "    raise FileExistsError(f\"File '{wpath}' already exists.\")\n",
    "with open(wpath, \"w\") as jf:\n",
    "    json.dump(wdoc, jf)"
   ]
  },
  {
   "cell_type": "markdown",
   "metadata": {},
   "source": [
    "## Fetch Physica"
   ]
  },
  {
   "cell_type": "code",
   "execution_count": 11,
   "metadata": {},
   "outputs": [],
   "source": [
    "book_name = \"Physica_Bingensis\"\n",
    "tar_url = \"http://www.fh-augsburg.de/~harsch/Chronologia/Lspost12/Hildegard/hil_phy0.html\"\n",
    "exec_path = r\"C:\\Program Files\\edgedriver_win64\\msedgedriver.exe\"\n",
    "headless = False"
   ]
  },
  {
   "cell_type": "code",
   "execution_count": null,
   "metadata": {},
   "outputs": [],
   "source": [
    "hl_opt = Options()\n",
    "if headless:\n",
    "    hl_opt.add_argument(\"headless\")\n",
    "s = Service(executable_path=exec_path)\n",
    "driver = webdriver.Edge(service=s, options=hl_opt)    "
   ]
  },
  {
   "cell_type": "code",
   "execution_count": 23,
   "metadata": {},
   "outputs": [],
   "source": [
    "driver.get(tar_url)\n",
    "contents_a = driver.find_elements(By.XPATH, \"/html/body/div/div[5]/table/tbody/tr[3]/td[2]/table/tbody/tr/td[1]/p\")\n",
    "contents_t = driver.find_elements(By.XPATH, \"/html/body/div/div[5]/table/tbody/tr[3]/td[2]/table/tbody/tr/td[2]/p\")"
   ]
  },
  {
   "cell_type": "code",
   "execution_count": 24,
   "metadata": {},
   "outputs": [],
   "source": [
    "wdoc = []\n",
    "for num, name in zip(contents_a,contents_t):\n",
    "    wdoc.append(dict(bks=num.text, title=name.text, url=num.find_element(By.XPATH,\"a\").get_attribute(\"href\")))\n"
   ]
  },
  {
   "cell_type": "code",
   "execution_count": 25,
   "metadata": {},
   "outputs": [],
   "source": [
    "for bk in wdoc:\n",
    "    driver.get(bk[\"url\"])\n",
    "    texts = \"\"    \n",
    "    for h3 in driver.find_elements(By.XPATH,\"//h3\"):\n",
    "        texts += h3.text\n",
    "    bk[\"texts\"] = texts"
   ]
  },
  {
   "cell_type": "code",
   "execution_count": 26,
   "metadata": {},
   "outputs": [],
   "source": [
    "import json\n",
    "import os\n",
    "wpath = f\"data/{book_name}.json\"\n",
    "if os.path.exists(wpath):\n",
    "    raise FileExistsError(f\"File '{wpath}' already exists.\")\n",
    "with open(wpath, \"w\") as jf:\n",
    "    json.dump(wdoc, jf)"
   ]
  },
  {
   "cell_type": "markdown",
   "metadata": {},
   "source": [
    "## Fetch De rerum naturis"
   ]
  },
  {
   "cell_type": "code",
   "execution_count": 36,
   "metadata": {},
   "outputs": [],
   "source": [
    "book_name = \"De_rerum_naturis\"\n",
    "tar_url = \"http://www.intratext.com/X/LAT0385.HTM\"\n",
    "exec_path = r\"C:\\Program Files\\edgedriver_win64\\msedgedriver.exe\"\n",
    "headless = False"
   ]
  },
  {
   "cell_type": "code",
   "execution_count": null,
   "metadata": {},
   "outputs": [],
   "source": [
    "hl_opt = Options()\n",
    "if headless:\n",
    "    hl_opt.add_argument(\"headless\")\n",
    "s = Service(executable_path=exec_path)\n",
    "driver = webdriver.Edge(service=s, options=hl_opt)    "
   ]
  },
  {
   "cell_type": "code",
   "execution_count": 37,
   "metadata": {},
   "outputs": [],
   "source": [
    "driver.get(tar_url)\n",
    "contents_a = driver.find_elements(By.XPATH, \"/html/body/font/ul//a\")\n"
   ]
  },
  {
   "cell_type": "code",
   "execution_count": 39,
   "metadata": {},
   "outputs": [],
   "source": [
    "wdoc = []\n",
    "for num in contents_a:\n",
    "    wdoc.append(dict(bks=num.text, title=num.text, url=num.get_attribute(\"href\")))\n"
   ]
  },
  {
   "cell_type": "code",
   "execution_count": 89,
   "metadata": {},
   "outputs": [
    {
     "name": "stderr",
     "output_type": "stream",
     "text": [
      "100%|██████████| 40/40 [00:38<00:00,  1.03it/s]\n"
     ]
    }
   ],
   "source": [
    "for bk in tqdm.tqdm(wdoc[]):\n",
    "    driver.implicitly_wait(20)\n",
    "    driver.get(bk[\"url\"])\n",
    "    texts = \"\"    \n",
    "    time.sleep(0.5)\n",
    "    ps = driver.find_elements(By.XPATH,\"/html/body/p\")\n",
    "    driver.implicitly_wait(20)\n",
    "    for p in ps:\n",
    "        texts += p.text\n",
    "    bk[\"texts\"] = texts\n"
   ]
  },
  {
   "cell_type": "code",
   "execution_count": 90,
   "metadata": {},
   "outputs": [],
   "source": [
    "import json\n",
    "import os\n",
    "wpath = f\"data/{book_name}.json\"\n",
    "if os.path.exists(wpath):\n",
    "    raise FileExistsError(f\"File '{wpath}' already exists.\")\n",
    "with open(wpath, \"w\") as jf:\n",
    "    json.dump(wdoc, jf)"
   ]
  },
  {
   "cell_type": "markdown",
   "metadata": {},
   "source": [
    "## Fetch Collectanea rerum mirabilium"
   ]
  },
  {
   "cell_type": "code",
   "execution_count": 91,
   "metadata": {},
   "outputs": [],
   "source": [
    "book_name = \"Collectanea_rerum_mirabilium\"\n",
    "tar_url = \"http://thelatinlibrary.com/solinus5.html\"\n",
    "exec_path = r\"C:\\Program Files\\edgedriver_win64\\msedgedriver.exe\"\n",
    "headless = False"
   ]
  },
  {
   "cell_type": "code",
   "execution_count": null,
   "metadata": {},
   "outputs": [],
   "source": [
    "hl_opt = Options()\n",
    "if headless:\n",
    "    hl_opt.add_argument(\"headless\")\n",
    "s = Service(executable_path=exec_path)\n",
    "driver = webdriver.Edge(service=s, options=hl_opt)    "
   ]
  },
  {
   "cell_type": "code",
   "execution_count": 93,
   "metadata": {},
   "outputs": [],
   "source": [
    "driver.get(tar_url)\n",
    "contents = driver.find_elements(By.XPATH, \"/html/body/p[position()>4]\")\n"
   ]
  },
  {
   "cell_type": "code",
   "execution_count": 102,
   "metadata": {},
   "outputs": [],
   "source": [
    "wdoc = []\n",
    "for i,p in enumerate(contents):\n",
    "    wdoc.append(dict(bks=f\"Collectanea rerum mirabilium-{i}\", title=\"SOLINVS ADVENTO SALVTEM\", url=tar_url))\n",
    "    wdoc[i][\"texts\"] = p.text\n"
   ]
  },
  {
   "cell_type": "code",
   "execution_count": 103,
   "metadata": {},
   "outputs": [],
   "source": [
    "import json\n",
    "import os\n",
    "wpath = f\"data/{book_name}.json\"\n",
    "if os.path.exists(wpath):\n",
    "    raise FileExistsError(f\"File '{wpath}' already exists.\")\n",
    "with open(wpath, \"w\") as jf:\n",
    "    json.dump(wdoc, jf)"
   ]
  },
  {
   "cell_type": "markdown",
   "metadata": {},
   "source": [
    "## Fetch De agri cultura"
   ]
  },
  {
   "cell_type": "code",
   "execution_count": 104,
   "metadata": {},
   "outputs": [],
   "source": [
    "book_name = \"De_agri_cultura\"\n",
    "tar_url = \"http://thelatinlibrary.com/cato/cato.agri.html\"\n",
    "exec_path = r\"C:\\Program Files\\edgedriver_win64\\msedgedriver.exe\"\n",
    "headless = False"
   ]
  },
  {
   "cell_type": "code",
   "execution_count": null,
   "metadata": {},
   "outputs": [],
   "source": [
    "hl_opt = Options()\n",
    "if headless:\n",
    "    hl_opt.add_argument(\"headless\")\n",
    "s = Service(executable_path=exec_path)\n",
    "driver = webdriver.Edge(service=s, options=hl_opt)    "
   ]
  },
  {
   "cell_type": "code",
   "execution_count": 105,
   "metadata": {},
   "outputs": [],
   "source": [
    "driver.get(tar_url)\n",
    "contents = driver.find_elements(By.XPATH, \"/html/body/p[position()>2]\")\n"
   ]
  },
  {
   "cell_type": "code",
   "execution_count": 106,
   "metadata": {},
   "outputs": [],
   "source": [
    "wdoc = []\n",
    "for i,p in enumerate(contents):\n",
    "    wdoc.append(dict(bks=f\"De agri cultura-{i}\", title=\"M. PORCI CATONIS CENSORIS DE AGRI CVLTVRA\", url=tar_url))\n",
    "    wdoc[i][\"texts\"] = p.text\n"
   ]
  },
  {
   "cell_type": "code",
   "execution_count": 107,
   "metadata": {},
   "outputs": [],
   "source": [
    "import json\n",
    "import os\n",
    "wpath = f\"data/{book_name}.json\"\n",
    "if os.path.exists(wpath):\n",
    "    raise FileExistsError(f\"File '{wpath}' already exists.\")\n",
    "with open(wpath, \"w\") as jf:\n",
    "    json.dump(wdoc, jf)"
   ]
  },
  {
   "cell_type": "markdown",
   "metadata": {},
   "source": [
    "## Fetch Res rustica"
   ]
  },
  {
   "cell_type": "code",
   "execution_count": 109,
   "metadata": {},
   "outputs": [],
   "source": [
    "book_name = \"Res_rustica\"\n",
    "tar_url = \"http://thelatinlibrary.com/columella.html\"\n",
    "exec_path = r\"C:\\Program Files\\edgedriver_win64\\msedgedriver.exe\"\n",
    "headless = False"
   ]
  },
  {
   "cell_type": "code",
   "execution_count": null,
   "metadata": {},
   "outputs": [],
   "source": [
    "hl_opt = Options()\n",
    "if headless:\n",
    "    hl_opt.add_argument(\"headless\")\n",
    "s = Service(executable_path=exec_path)\n",
    "driver = webdriver.Edge(service=s, options=hl_opt)    "
   ]
  },
  {
   "cell_type": "code",
   "execution_count": 112,
   "metadata": {},
   "outputs": [],
   "source": [
    "driver.get(tar_url)\n",
    "contents_a = driver.find_elements(By.XPATH, \"/html/body/p[position()=3 or position()=4]//a\")"
   ]
  },
  {
   "cell_type": "code",
   "execution_count": 113,
   "metadata": {},
   "outputs": [],
   "source": [
    "wdoc = []\n",
    "for num in contents_a:\n",
    "    wdoc.append(dict(bks=num.text, title=num.text, url=num.get_attribute(\"href\")))\n"
   ]
  },
  {
   "cell_type": "code",
   "execution_count": 114,
   "metadata": {},
   "outputs": [],
   "source": [
    "for bk in wdoc:\n",
    "    driver.get(bk[\"url\"])\n",
    "    texts = \"\"    \n",
    "    for p in driver.find_elements(By.XPATH,\"/html/body/p[position()>2 and position()<last()-1]\"):\n",
    "        texts += p.text\n",
    "    bk[\"texts\"] = texts"
   ]
  },
  {
   "cell_type": "code",
   "execution_count": 115,
   "metadata": {},
   "outputs": [],
   "source": [
    "import json\n",
    "import os\n",
    "wpath = f\"data/{book_name}.json\"\n",
    "if os.path.exists(wpath):\n",
    "    raise FileExistsError(f\"File '{wpath}' already exists.\")\n",
    "with open(wpath, \"w\") as jf:\n",
    "    json.dump(wdoc, jf)"
   ]
  },
  {
   "cell_type": "markdown",
   "metadata": {},
   "source": [
    "## Fetch Perseus database"
   ]
  },
  {
   "cell_type": "code",
   "execution_count": 116,
   "metadata": {},
   "outputs": [],
   "source": [
    "from cltk.data.fetch import FetchCorpus\n",
    "corpus_fetcher = FetchCorpus(\"lat\")"
   ]
  },
  {
   "cell_type": "code",
   "execution_count": 117,
   "metadata": {},
   "outputs": [
    {
     "data": {
      "text/plain": [
       "['lat_text_perseus',\n",
       " 'lat_treebank_perseus',\n",
       " 'lat_text_latin_library',\n",
       " 'phi5',\n",
       " 'phi7',\n",
       " 'latin_proper_names_cltk',\n",
       " 'lat_models_cltk',\n",
       " 'latin_pos_lemmata_cltk',\n",
       " 'latin_treebank_index_thomisticus',\n",
       " 'latin_lexica_perseus',\n",
       " 'latin_training_set_sentence_cltk',\n",
       " 'latin_word2vec_cltk',\n",
       " 'latin_text_antique_digiliblt',\n",
       " 'latin_text_corpus_grammaticorum_latinorum',\n",
       " 'latin_text_poeti_ditalia',\n",
       " 'lat_text_tesserae',\n",
       " 'cltk_lat_lewis_elementary_lexicon']"
      ]
     },
     "execution_count": 117,
     "metadata": {},
     "output_type": "execute_result"
    }
   ],
   "source": [
    "corpus_fetcher.list_corpora"
   ]
  },
  {
   "cell_type": "code",
   "execution_count": 118,
   "metadata": {},
   "outputs": [
    {
     "ename": "GitCommandError",
     "evalue": "Cmd('git') failed due to: exit code(128)\n  cmdline: git clone -v --branch=master --depth=1 --progress https://github.com/cltk/lat_text_perseus.git C:\\Users\\Bowen Chen\\cltk_data\\lat\\text\\lat_text_perseus",
     "output_type": "error",
     "traceback": [
      "\u001b[1;31m---------------------------------------------------------------------------\u001b[0m",
      "\u001b[1;31mGitCommandError\u001b[0m                           Traceback (most recent call last)",
      "\u001b[1;32mc:\\Users\\Bowen Chen\\Documents\\GitHub\\AlChat\\data_fetch.ipynb Cell 45'\u001b[0m in \u001b[0;36m<cell line: 1>\u001b[1;34m()\u001b[0m\n\u001b[1;32m----> <a href='vscode-notebook-cell:/c%3A/Users/Bowen%20Chen/Documents/GitHub/AlChat/data_fetch.ipynb#ch0000075?line=0'>1</a>\u001b[0m corpus_fetcher\u001b[39m.\u001b[39;49mimport_corpus(\u001b[39m\"\u001b[39;49m\u001b[39mlat_text_perseus\u001b[39;49m\u001b[39m\"\u001b[39;49m)\n",
      "File \u001b[1;32mc:\\environments\\envs\\alchem\\lib\\site-packages\\cltk\\data\\fetch.py:760\u001b[0m, in \u001b[0;36mFetchCorpus.import_corpus\u001b[1;34m(self, corpus_name, local_path, branch)\u001b[0m\n\u001b[0;32m    758\u001b[0m     msg \u001b[39m=\u001b[39m \u001b[39m\"\u001b[39m\u001b[39mCloning \u001b[39m\u001b[39m'\u001b[39m\u001b[39m{}\u001b[39;00m\u001b[39m'\u001b[39m\u001b[39m from \u001b[39m\u001b[39m'\u001b[39m\u001b[39m{}\u001b[39;00m\u001b[39m'\u001b[39m\u001b[39m\"\u001b[39m\u001b[39m.\u001b[39mformat(corpus_name, git_uri)\n\u001b[0;32m    759\u001b[0m     logger\u001b[39m.\u001b[39minfo(msg)\n\u001b[1;32m--> 760\u001b[0m     Repo\u001b[39m.\u001b[39;49mclone_from(\n\u001b[0;32m    761\u001b[0m         git_uri,\n\u001b[0;32m    762\u001b[0m         target_dir,\n\u001b[0;32m    763\u001b[0m         branch\u001b[39m=\u001b[39;49mbranch,\n\u001b[0;32m    764\u001b[0m         depth\u001b[39m=\u001b[39;49m\u001b[39m1\u001b[39;49m,\n\u001b[0;32m    765\u001b[0m         progress\u001b[39m=\u001b[39;49mProgressPrinter(),\n\u001b[0;32m    766\u001b[0m     )\n\u001b[0;32m    767\u001b[0m \u001b[39mexcept\u001b[39;00m CorpusImportError \u001b[39mas\u001b[39;00m corpus_imp_err:\n\u001b[0;32m    768\u001b[0m     msg \u001b[39m=\u001b[39m \u001b[39m\"\u001b[39m\u001b[39mGit clone of \u001b[39m\u001b[39m'\u001b[39m\u001b[39m{}\u001b[39;00m\u001b[39m'\u001b[39m\u001b[39m failed: \u001b[39m\u001b[39m'\u001b[39m\u001b[39m{}\u001b[39;00m\u001b[39m'\u001b[39m\u001b[39m\"\u001b[39m\u001b[39m.\u001b[39mformat(\n\u001b[0;32m    769\u001b[0m         git_uri, corpus_imp_err\n\u001b[0;32m    770\u001b[0m     )\n",
      "File \u001b[1;32mc:\\environments\\envs\\alchem\\lib\\site-packages\\git\\repo\\base.py:1148\u001b[0m, in \u001b[0;36mRepo.clone_from\u001b[1;34m(cls, url, to_path, progress, env, multi_options, **kwargs)\u001b[0m\n\u001b[0;32m   1146\u001b[0m \u001b[39mif\u001b[39;00m env \u001b[39mis\u001b[39;00m \u001b[39mnot\u001b[39;00m \u001b[39mNone\u001b[39;00m:\n\u001b[0;32m   1147\u001b[0m     git\u001b[39m.\u001b[39mupdate_environment(\u001b[39m*\u001b[39m\u001b[39m*\u001b[39menv)\n\u001b[1;32m-> 1148\u001b[0m \u001b[39mreturn\u001b[39;00m \u001b[39mcls\u001b[39m\u001b[39m.\u001b[39m_clone(git, url, to_path, GitCmdObjectDB, progress, multi_options, \u001b[39m*\u001b[39m\u001b[39m*\u001b[39mkwargs)\n",
      "File \u001b[1;32mc:\\environments\\envs\\alchem\\lib\\site-packages\\git\\repo\\base.py:1078\u001b[0m, in \u001b[0;36mRepo._clone\u001b[1;34m(cls, git, url, path, odb_default_type, progress, multi_options, **kwargs)\u001b[0m\n\u001b[0;32m   1075\u001b[0m proc \u001b[39m=\u001b[39m git\u001b[39m.\u001b[39mclone(multi, Git\u001b[39m.\u001b[39mpolish_url(\u001b[39mstr\u001b[39m(url)), clone_path, with_extended_output\u001b[39m=\u001b[39m\u001b[39mTrue\u001b[39;00m, as_process\u001b[39m=\u001b[39m\u001b[39mTrue\u001b[39;00m,\n\u001b[0;32m   1076\u001b[0m                  v\u001b[39m=\u001b[39m\u001b[39mTrue\u001b[39;00m, universal_newlines\u001b[39m=\u001b[39m\u001b[39mTrue\u001b[39;00m, \u001b[39m*\u001b[39m\u001b[39m*\u001b[39madd_progress(kwargs, git, progress))\n\u001b[0;32m   1077\u001b[0m \u001b[39mif\u001b[39;00m progress:\n\u001b[1;32m-> 1078\u001b[0m     handle_process_output(proc, \u001b[39mNone\u001b[39;49;00m, to_progress_instance(progress)\u001b[39m.\u001b[39;49mnew_message_handler(),\n\u001b[0;32m   1079\u001b[0m                           finalize_process, decode_streams\u001b[39m=\u001b[39;49m\u001b[39mFalse\u001b[39;49;00m)\n\u001b[0;32m   1080\u001b[0m \u001b[39melse\u001b[39;00m:\n\u001b[0;32m   1081\u001b[0m     (stdout, stderr) \u001b[39m=\u001b[39m proc\u001b[39m.\u001b[39mcommunicate()\n",
      "File \u001b[1;32mc:\\environments\\envs\\alchem\\lib\\site-packages\\git\\cmd.py:176\u001b[0m, in \u001b[0;36mhandle_process_output\u001b[1;34m(process, stdout_handler, stderr_handler, finalizer, decode_streams, kill_after_timeout)\u001b[0m\n\u001b[0;32m    173\u001b[0m             stderr_handler(error_str)  \u001b[39m# type: ignore\u001b[39;00m\n\u001b[0;32m    175\u001b[0m \u001b[39mif\u001b[39;00m finalizer:\n\u001b[1;32m--> 176\u001b[0m     \u001b[39mreturn\u001b[39;00m finalizer(process)\n\u001b[0;32m    177\u001b[0m \u001b[39melse\u001b[39;00m:\n\u001b[0;32m    178\u001b[0m     \u001b[39mreturn\u001b[39;00m \u001b[39mNone\u001b[39;00m\n",
      "File \u001b[1;32mc:\\environments\\envs\\alchem\\lib\\site-packages\\git\\util.py:386\u001b[0m, in \u001b[0;36mfinalize_process\u001b[1;34m(proc, **kwargs)\u001b[0m\n\u001b[0;32m    384\u001b[0m \u001b[39m\"\"\"Wait for the process (clone, fetch, pull or push) and handle its errors accordingly\"\"\"\u001b[39;00m\n\u001b[0;32m    385\u001b[0m \u001b[39m# TODO: No close proc-streams??\u001b[39;00m\n\u001b[1;32m--> 386\u001b[0m proc\u001b[39m.\u001b[39mwait(\u001b[39m*\u001b[39m\u001b[39m*\u001b[39mkwargs)\n",
      "File \u001b[1;32mc:\\environments\\envs\\alchem\\lib\\site-packages\\git\\cmd.py:502\u001b[0m, in \u001b[0;36mGit.AutoInterrupt.wait\u001b[1;34m(self, stderr)\u001b[0m\n\u001b[0;32m    500\u001b[0m     errstr \u001b[39m=\u001b[39m read_all_from_possibly_closed_stream(p_stderr)\n\u001b[0;32m    501\u001b[0m     log\u001b[39m.\u001b[39mdebug(\u001b[39m'\u001b[39m\u001b[39mAutoInterrupt wait stderr: \u001b[39m\u001b[39m%r\u001b[39;00m\u001b[39m'\u001b[39m \u001b[39m%\u001b[39m (errstr,))\n\u001b[1;32m--> 502\u001b[0m     \u001b[39mraise\u001b[39;00m GitCommandError(remove_password_if_present(\u001b[39mself\u001b[39m\u001b[39m.\u001b[39margs), status, errstr)\n\u001b[0;32m    503\u001b[0m \u001b[39mreturn\u001b[39;00m status\n",
      "\u001b[1;31mGitCommandError\u001b[0m: Cmd('git') failed due to: exit code(128)\n  cmdline: git clone -v --branch=master --depth=1 --progress https://github.com/cltk/lat_text_perseus.git C:\\Users\\Bowen Chen\\cltk_data\\lat\\text\\lat_text_perseus"
     ]
    }
   ],
   "source": [
    "corpus_fetcher.import_corpus(\"lat_text_perseus\")"
   ]
  },
  {
   "cell_type": "code",
   "execution_count": 123,
   "metadata": {
    "vscode": {
     "languageId": "powershell"
    }
   },
   "outputs": [
    {
     "ename": "SyntaxError",
     "evalue": "invalid syntax (1477455099.py, line 1)",
     "output_type": "error",
     "traceback": [
      "\u001b[1;36m  Input \u001b[1;32mIn [123]\u001b[1;36m\u001b[0m\n\u001b[1;33m    cp '~\\cltk_data\\lat\\text\\lat_text_perseus\\Pliny\\opensource\\PlinyNH.xml' .\\data\u001b[0m\n\u001b[1;37m       ^\u001b[0m\n\u001b[1;31mSyntaxError\u001b[0m\u001b[1;31m:\u001b[0m invalid syntax\n"
     ]
    }
   ],
   "source": [
    "cp '~\\cltk_data\\lat\\text\\lat_text_perseus\\Pliny\\opensource\\PlinyNH.xml' .\\data"
   ]
  },
  {
   "cell_type": "code",
   "execution_count": null,
   "metadata": {
    "vscode": {
     "languageId": "powershell"
    }
   },
   "outputs": [],
   "source": []
  }
 ],
 "metadata": {
  "kernelspec": {
   "display_name": "Python 3.9.12 ('alchem')",
   "language": "python",
   "name": "python3"
  },
  "language_info": {
   "codemirror_mode": {
    "name": "ipython",
    "version": 3
   },
   "file_extension": ".py",
   "mimetype": "text/x-python",
   "name": "python",
   "nbconvert_exporter": "python",
   "pygments_lexer": "ipython3",
   "version": "3.9.12"
  },
  "orig_nbformat": 4,
  "vscode": {
   "interpreter": {
    "hash": "b26b3e6f3195b5c1178f5f4717c5a6fa86c3895aa84433f4e2c94fbed43b8586"
   }
  }
 },
 "nbformat": 4,
 "nbformat_minor": 2
}
