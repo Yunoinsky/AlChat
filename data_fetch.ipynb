{
 "cells": [
  {
   "cell_type": "code",
   "execution_count": 5,
   "metadata": {},
   "outputs": [],
   "source": [
    "from selenium import webdriver\n",
    "from selenium.webdriver.edge.service import Service\n",
    "from selenium.webdriver.edge.options import Options\n",
    "from selenium.webdriver.common.by import By\n",
    "import tqdm"
   ]
  },
  {
   "cell_type": "markdown",
   "metadata": {},
   "source": [
    "## Fetch Etymologiae"
   ]
  },
  {
   "cell_type": "code",
   "execution_count": 6,
   "metadata": {},
   "outputs": [],
   "source": [
    "book_name = \"Etymologiarum libri XX\"\n",
    "tar_url = \"http://www.fh-augsburg.de/~harsch/Chronologia/Lspost07/Isidorus/isi_et00.html\"\n",
    "exec_path = r\"C:\\Program Files\\edgedriver_win64\\msedgedriver.exe\"\n",
    "headless = False"
   ]
  },
  {
   "cell_type": "code",
   "execution_count": 7,
   "metadata": {},
   "outputs": [],
   "source": [
    "hl_opt = Options()\n",
    "if headless:\n",
    "    hl_opt.add_argument(\"headless\")\n",
    "s = Service(executable_path=exec_path)\n",
    "driver = webdriver.Edge(service=s, options=hl_opt)    "
   ]
  },
  {
   "cell_type": "code",
   "execution_count": 8,
   "metadata": {},
   "outputs": [],
   "source": [
    "driver.get(tar_url)\n",
    "contents = driver.find_elements(By.XPATH, \"/html/body/div/div[5]/table/tbody/tr[3]/td[2]/p[not(@style)]\")"
   ]
  },
  {
   "cell_type": "code",
   "execution_count": 9,
   "metadata": {},
   "outputs": [],
   "source": [
    "wdoc = []\n",
    "for num, name in zip(contents[::2],contents[1::2]):\n",
    "    wdoc.append(dict(bks=num.text, title=name.text, url=num.find_element(By.XPATH,\"a\").get_attribute(\"href\")))\n"
   ]
  },
  {
   "cell_type": "code",
   "execution_count": 10,
   "metadata": {},
   "outputs": [],
   "source": [
    "for bk in wdoc:\n",
    "    driver.get(bk[\"url\"])\n",
    "    texts = \"\"    \n",
    "    for h3 in driver.find_elements(By.XPATH,\"//h3\"):\n",
    "        texts += h3.text\n",
    "    bk[\"texts\"] = texts"
   ]
  },
  {
   "cell_type": "code",
   "execution_count": 80,
   "metadata": {},
   "outputs": [
    {
     "ename": "FileExistsError",
     "evalue": "File 'data/Etymologiarum libri XX.json' already exists.",
     "output_type": "error",
     "traceback": [
      "\u001b[1;31m---------------------------------------------------------------------------\u001b[0m",
      "\u001b[1;31mFileExistsError\u001b[0m                           Traceback (most recent call last)",
      "\u001b[1;32mc:\\Users\\chenbowen\\Project\\Interests\\Alchemist\\spider_alch.ipynb Cell 7'\u001b[0m in \u001b[0;36m<cell line: 4>\u001b[1;34m()\u001b[0m\n\u001b[0;32m      <a href='vscode-notebook-cell:/c%3A/Users/chenbowen/Project/Interests/Alchemist/spider_alch.ipynb#ch0000020?line=2'>3</a>\u001b[0m wpath \u001b[39m=\u001b[39m \u001b[39mf\u001b[39m\u001b[39m\"\u001b[39m\u001b[39mdata/\u001b[39m\u001b[39m{\u001b[39;00mbook_name\u001b[39m}\u001b[39;00m\u001b[39m.json\u001b[39m\u001b[39m\"\u001b[39m\n\u001b[0;32m      <a href='vscode-notebook-cell:/c%3A/Users/chenbowen/Project/Interests/Alchemist/spider_alch.ipynb#ch0000020?line=3'>4</a>\u001b[0m \u001b[39mif\u001b[39;00m os\u001b[39m.\u001b[39mpath\u001b[39m.\u001b[39mexists(wpath):\n\u001b[1;32m----> <a href='vscode-notebook-cell:/c%3A/Users/chenbowen/Project/Interests/Alchemist/spider_alch.ipynb#ch0000020?line=4'>5</a>\u001b[0m     \u001b[39mraise\u001b[39;00m \u001b[39mFileExistsError\u001b[39;00m(\u001b[39mf\u001b[39m\u001b[39m\"\u001b[39m\u001b[39mFile \u001b[39m\u001b[39m'\u001b[39m\u001b[39m{\u001b[39;00mwpath\u001b[39m}\u001b[39;00m\u001b[39m'\u001b[39m\u001b[39m already exists.\u001b[39m\u001b[39m\"\u001b[39m)\n\u001b[0;32m      <a href='vscode-notebook-cell:/c%3A/Users/chenbowen/Project/Interests/Alchemist/spider_alch.ipynb#ch0000020?line=5'>6</a>\u001b[0m \u001b[39mwith\u001b[39;00m \u001b[39mopen\u001b[39m(wpath, \u001b[39m\"\u001b[39m\u001b[39mw\u001b[39m\u001b[39m\"\u001b[39m) \u001b[39mas\u001b[39;00m jf:\n\u001b[0;32m      <a href='vscode-notebook-cell:/c%3A/Users/chenbowen/Project/Interests/Alchemist/spider_alch.ipynb#ch0000020?line=6'>7</a>\u001b[0m     json\u001b[39m.\u001b[39mdump(wdoc, jf)\n",
      "\u001b[1;31mFileExistsError\u001b[0m: File 'data/Etymologiarum libri XX.json' already exists."
     ]
    }
   ],
   "source": [
    "import json\n",
    "import os\n",
    "wpath = f\"data/{book_name}.json\"\n",
    "if os.path.exists(wpath):\n",
    "    raise FileExistsError(f\"File '{wpath}' already exists.\")\n",
    "with open(wpath, \"w\") as jf:\n",
    "    json.dump(wdoc, jf)"
   ]
  },
  {
   "cell_type": "markdown",
   "metadata": {},
   "source": [
    "## Fetch Physica"
   ]
  },
  {
   "cell_type": "code",
   "execution_count": 11,
   "metadata": {},
   "outputs": [],
   "source": [
    "book_name = \"Physica_Bingensis\"\n",
    "tar_url = \"http://www.fh-augsburg.de/~harsch/Chronologia/Lspost12/Hildegard/hil_phy0.html\"\n",
    "exec_path = r\"C:\\Program Files\\edgedriver_win64\\msedgedriver.exe\"\n",
    "headless = False"
   ]
  },
  {
   "cell_type": "code",
   "execution_count": null,
   "metadata": {},
   "outputs": [],
   "source": [
    "hl_opt = Options()\n",
    "if headless:\n",
    "    hl_opt.add_argument(\"headless\")\n",
    "s = Service(executable_path=exec_path)\n",
    "driver = webdriver.Edge(service=s, options=hl_opt)    "
   ]
  },
  {
   "cell_type": "code",
   "execution_count": 23,
   "metadata": {},
   "outputs": [],
   "source": [
    "driver.get(tar_url)\n",
    "contents_a = driver.find_elements(By.XPATH, \"/html/body/div/div[5]/table/tbody/tr[3]/td[2]/table/tbody/tr/td[1]/p\")\n",
    "contents_t = driver.find_elements(By.XPATH, \"/html/body/div/div[5]/table/tbody/tr[3]/td[2]/table/tbody/tr/td[2]/p\")"
   ]
  },
  {
   "cell_type": "code",
   "execution_count": 24,
   "metadata": {},
   "outputs": [],
   "source": [
    "wdoc = []\n",
    "for num, name in zip(contents_a,contents_t):\n",
    "    wdoc.append(dict(bks=num.text, title=name.text, url=num.find_element(By.XPATH,\"a\").get_attribute(\"href\")))\n"
   ]
  },
  {
   "cell_type": "code",
   "execution_count": 25,
   "metadata": {},
   "outputs": [],
   "source": [
    "for bk in wdoc:\n",
    "    driver.get(bk[\"url\"])\n",
    "    texts = \"\"    \n",
    "    for h3 in driver.find_elements(By.XPATH,\"//h3\"):\n",
    "        texts += h3.text\n",
    "    bk[\"texts\"] = texts"
   ]
  },
  {
   "cell_type": "code",
   "execution_count": 26,
   "metadata": {},
   "outputs": [],
   "source": [
    "import json\n",
    "import os\n",
    "wpath = f\"data/{book_name}.json\"\n",
    "if os.path.exists(wpath):\n",
    "    raise FileExistsError(f\"File '{wpath}' already exists.\")\n",
    "with open(wpath, \"w\") as jf:\n",
    "    json.dump(wdoc, jf)"
   ]
  },
  {
   "cell_type": "markdown",
   "metadata": {},
   "source": [
    "## Fetch De rerum naturis"
   ]
  },
  {
   "cell_type": "code",
   "execution_count": 36,
   "metadata": {},
   "outputs": [],
   "source": [
    "book_name = \"De_rerum_naturis\"\n",
    "tar_url = \"http://www.intratext.com/X/LAT0385.HTM\"\n",
    "exec_path = r\"C:\\Program Files\\edgedriver_win64\\msedgedriver.exe\"\n",
    "headless = False"
   ]
  },
  {
   "cell_type": "code",
   "execution_count": null,
   "metadata": {},
   "outputs": [],
   "source": [
    "hl_opt = Options()\n",
    "if headless:\n",
    "    hl_opt.add_argument(\"headless\")\n",
    "s = Service(executable_path=exec_path)\n",
    "driver = webdriver.Edge(service=s, options=hl_opt)    "
   ]
  },
  {
   "cell_type": "code",
   "execution_count": 37,
   "metadata": {},
   "outputs": [],
   "source": [
    "driver.get(tar_url)\n",
    "contents_a = driver.find_elements(By.XPATH, \"/html/body/font/ul//a\")\n"
   ]
  },
  {
   "cell_type": "code",
   "execution_count": 39,
   "metadata": {},
   "outputs": [],
   "source": [
    "wdoc = []\n",
    "for num in contents_a:\n",
    "    wdoc.append(dict(bks=num.text, title=num.text, url=num.get_attribute(\"href\")))\n"
   ]
  },
  {
   "cell_type": "code",
   "execution_count": 89,
   "metadata": {},
   "outputs": [
    {
     "name": "stderr",
     "output_type": "stream",
     "text": [
      "100%|██████████| 40/40 [00:38<00:00,  1.03it/s]\n"
     ]
    }
   ],
   "source": [
    "for bk in tqdm.tqdm(wdoc[]):\n",
    "    driver.implicitly_wait(20)\n",
    "    driver.get(bk[\"url\"])\n",
    "    texts = \"\"    \n",
    "    time.sleep(0.5)\n",
    "    ps = driver.find_elements(By.XPATH,\"/html/body/p\")\n",
    "    driver.implicitly_wait(20)\n",
    "    for p in ps:\n",
    "        texts += p.text\n",
    "    bk[\"texts\"] = texts\n"
   ]
  },
  {
   "cell_type": "code",
   "execution_count": 90,
   "metadata": {},
   "outputs": [],
   "source": [
    "import json\n",
    "import os\n",
    "wpath = f\"data/{book_name}.json\"\n",
    "if os.path.exists(wpath):\n",
    "    raise FileExistsError(f\"File '{wpath}' already exists.\")\n",
    "with open(wpath, \"w\") as jf:\n",
    "    json.dump(wdoc, jf)"
   ]
  },
  {
   "cell_type": "markdown",
   "metadata": {},
   "source": [
    "## Fetch Collectanea rerum mirabilium"
   ]
  },
  {
   "cell_type": "code",
   "execution_count": 91,
   "metadata": {},
   "outputs": [],
   "source": [
    "book_name = \"Collectanea_rerum_mirabilium\"\n",
    "tar_url = \"http://thelatinlibrary.com/solinus5.html\"\n",
    "exec_path = r\"C:\\Program Files\\edgedriver_win64\\msedgedriver.exe\"\n",
    "headless = False"
   ]
  },
  {
   "cell_type": "code",
   "execution_count": null,
   "metadata": {},
   "outputs": [],
   "source": [
    "hl_opt = Options()\n",
    "if headless:\n",
    "    hl_opt.add_argument(\"headless\")\n",
    "s = Service(executable_path=exec_path)\n",
    "driver = webdriver.Edge(service=s, options=hl_opt)    "
   ]
  },
  {
   "cell_type": "code",
   "execution_count": 93,
   "metadata": {},
   "outputs": [],
   "source": [
    "driver.get(tar_url)\n",
    "contents = driver.find_elements(By.XPATH, \"/html/body/p[position()>4]\")\n"
   ]
  },
  {
   "cell_type": "code",
   "execution_count": 94,
   "metadata": {},
   "outputs": [],
   "source": [
    "wdoc = []\n",
    "wdoc.append(dict(bks=\"Collectanea rerum mirabilium\", title=\"SOLINVS ADVENTO SALVTEM\", url=tar_url))\n"
   ]
  },
  {
   "cell_type": "code",
   "execution_count": 98,
   "metadata": {},
   "outputs": [],
   "source": [
    "texts = \"\"\n",
    "for p in contents:\n",
    "    texts += p.text\n",
    "wdoc[0][\"texts\"] = texts"
   ]
  },
  {
   "cell_type": "code",
   "execution_count": 99,
   "metadata": {},
   "outputs": [],
   "source": [
    "import json\n",
    "import os\n",
    "wpath = f\"data/{book_name}.json\"\n",
    "if os.path.exists(wpath):\n",
    "    raise FileExistsError(f\"File '{wpath}' already exists.\")\n",
    "with open(wpath, \"w\") as jf:\n",
    "    json.dump(wdoc, jf)"
   ]
  }
 ],
 "metadata": {
  "kernelspec": {
   "display_name": "Python 3.9.12 ('alchem')",
   "language": "python",
   "name": "python3"
  },
  "language_info": {
   "codemirror_mode": {
    "name": "ipython",
    "version": 3
   },
   "file_extension": ".py",
   "mimetype": "text/x-python",
   "name": "python",
   "nbconvert_exporter": "python",
   "pygments_lexer": "ipython3",
   "version": "3.9.12"
  },
  "orig_nbformat": 4,
  "vscode": {
   "interpreter": {
    "hash": "b26b3e6f3195b5c1178f5f4717c5a6fa86c3895aa84433f4e2c94fbed43b8586"
   }
  }
 },
 "nbformat": 4,
 "nbformat_minor": 2
}
