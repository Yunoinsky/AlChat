{
 "cells": [
  {
   "cell_type": "markdown",
   "metadata": {},
   "source": [
    "# Embedding the Documents"
   ]
  },
  {
   "cell_type": "code",
   "execution_count": 1,
   "metadata": {},
   "outputs": [
    {
     "name": "stderr",
     "output_type": "stream",
     "text": [
      "c:\\environments\\envs\\alchem\\lib\\site-packages\\tqdm\\auto.py:22: TqdmWarning: IProgress not found. Please update jupyter and ipywidgets. See https://ipywidgets.readthedocs.io/en/stable/user_install.html\n",
      "  from .autonotebook import tqdm as notebook_tqdm\n"
     ]
    }
   ],
   "source": [
    "import os\n",
    "import json\n",
    "import numpy as np\n",
    "import threading\n",
    "import time\n",
    "from cltk import NLP\n"
   ]
  },
  {
   "cell_type": "code",
   "execution_count": 2,
   "metadata": {},
   "outputs": [],
   "source": [
    "class NumpyArrayEncoder(json.JSONEncoder):\n",
    "    def default(self, obj):\n",
    "        if isinstance(obj, np.ndarray):\n",
    "            return obj.tolist()\n",
    "        return json.JSONEncoder.default(self, obj)"
   ]
  },
  {
   "cell_type": "code",
   "execution_count": 3,
   "metadata": {},
   "outputs": [],
   "source": [
    "embedding_dir = \"./data/embedding/\"\n",
    "doc_dir = \"./data/\""
   ]
  },
  {
   "cell_type": "code",
   "execution_count": 4,
   "metadata": {},
   "outputs": [],
   "source": [
    "def nlp_file(filename, fpath, tpath):\n",
    "    print(f\"--- Start Process for {filename}, {time.ctime()}\")\n",
    "    with open(fpath) as jf:\n",
    "        wdoc = json.load(jf)\n",
    "    cltk_nlp = NLP(language='lat', suppress_banner=True)\n",
    "\n",
    "    for bk in wdoc:\n",
    "        cltk_doc = cltk_nlp.analyze(bk[\"texts\"])\n",
    "        bk[\"sentences\"] = cltk_doc.sentences_strings\n",
    "        bk[\"sentence_embeddings\"] = cltk_doc.sentence_embeddings\n",
    "        print(f\"------ Finished {filename}, {bk['title']}, {bk['bks']}\")\n",
    "    with open(tpath, 'w') as jf:\n",
    "        json.dump(wdoc, jf, cls=NumpyArrayEncoder)\n",
    "    print(f\"--- End Process for {filename}, {time.ctime()}\")\n"
   ]
  },
  {
   "cell_type": "code",
   "execution_count": 5,
   "metadata": {},
   "outputs": [],
   "source": [
    "from concurrent.futures import ThreadPoolExecutor\n"
   ]
  },
  {
   "cell_type": "code",
   "execution_count": 6,
   "metadata": {},
   "outputs": [
    {
     "ename": "FileNotFoundError",
     "evalue": "[WinError 3] 系统找不到指定的路径。: './data/'",
     "output_type": "error",
     "traceback": [
      "\u001b[1;31m---------------------------------------------------------------------------\u001b[0m",
      "\u001b[1;31mFileNotFoundError\u001b[0m                         Traceback (most recent call last)",
      "\u001b[1;32mc:\\Users\\Bowen Chen\\Documents\\GitHub\\AlChat\\data\\nlp_proccess.ipynb Cell 7'\u001b[0m in \u001b[0;36m<cell line: 1>\u001b[1;34m()\u001b[0m\n\u001b[0;32m      <a href='vscode-notebook-cell:/c%3A/Users/Bowen%20Chen/Documents/GitHub/AlChat/data/nlp_proccess.ipynb#ch0000006?line=1'>2</a>\u001b[0m \u001b[39mdef\u001b[39;00m \u001b[39mget_result\u001b[39m(future):\n\u001b[0;32m      <a href='vscode-notebook-cell:/c%3A/Users/Bowen%20Chen/Documents/GitHub/AlChat/data/nlp_proccess.ipynb#ch0000006?line=2'>3</a>\u001b[0m     \u001b[39mprint\u001b[39m(future\u001b[39m.\u001b[39mresult())\n\u001b[1;32m----> <a href='vscode-notebook-cell:/c%3A/Users/Bowen%20Chen/Documents/GitHub/AlChat/data/nlp_proccess.ipynb#ch0000006?line=4'>5</a>\u001b[0m \u001b[39mfor\u001b[39;00m tname \u001b[39min\u001b[39;00m os\u001b[39m.\u001b[39;49mlistdir(doc_dir):\n\u001b[0;32m      <a href='vscode-notebook-cell:/c%3A/Users/Bowen%20Chen/Documents/GitHub/AlChat/data/nlp_proccess.ipynb#ch0000006?line=5'>6</a>\u001b[0m     fpath \u001b[39m=\u001b[39m os\u001b[39m.\u001b[39mpath\u001b[39m.\u001b[39mjoin(doc_dir, tname)\n\u001b[0;32m      <a href='vscode-notebook-cell:/c%3A/Users/Bowen%20Chen/Documents/GitHub/AlChat/data/nlp_proccess.ipynb#ch0000006?line=6'>7</a>\u001b[0m     fname, ext \u001b[39m=\u001b[39m os\u001b[39m.\u001b[39mpath\u001b[39m.\u001b[39msplitext(tname)\n",
      "\u001b[1;31mFileNotFoundError\u001b[0m: [WinError 3] 系统找不到指定的路径。: './data/'"
     ]
    }
   ],
   "source": [
    "with ThreadPoolExecutor(max_workers=18) as pool:\n",
    "    def get_result(future):\n",
    "        print(future.result())\n",
    "\n",
    "    for tname in os.listdir(doc_dir):\n",
    "        fpath = os.path.join(doc_dir, tname)\n",
    "        fname, ext = os.path.splitext(tname)\n",
    "\n",
    "        if not os.path.isfile(fpath) or ext != '.json':\n",
    "            #print(f\"{fname} is not a json file\")\n",
    "            continue\n",
    "        tpath = os.path.join(embedding_dir, fname+'_embedding'+ext)\n",
    "        pool.submit(nlp_file, fname, fpath, tpath).add_done_callback(get_result)\n",
    "        \n",
    "\n",
    "    \n"
   ]
  },
  {
   "cell_type": "code",
   "execution_count": null,
   "metadata": {},
   "outputs": [],
   "source": []
  }
 ],
 "metadata": {
  "kernelspec": {
   "display_name": "Python 3.9.12 ('alchem')",
   "language": "python",
   "name": "python3"
  },
  "language_info": {
   "codemirror_mode": {
    "name": "ipython",
    "version": 3
   },
   "file_extension": ".py",
   "mimetype": "text/x-python",
   "name": "python",
   "nbconvert_exporter": "python",
   "pygments_lexer": "ipython3",
   "version": "3.9.12"
  },
  "orig_nbformat": 4,
  "vscode": {
   "interpreter": {
    "hash": "b26b3e6f3195b5c1178f5f4717c5a6fa86c3895aa84433f4e2c94fbed43b8586"
   }
  }
 },
 "nbformat": 4,
 "nbformat_minor": 2
}
